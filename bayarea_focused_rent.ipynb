{
 "cells": [
  {
   "cell_type": "code",
   "execution_count": 1,
   "id": "45ac9c04",
   "metadata": {},
   "outputs": [
    {
     "name": "stderr",
     "output_type": "stream",
     "text": [
      "/Users/hiromi/.pyenv/versions/3.8.10/lib/python3.8/site-packages/pandas/compat/__init__.py:97: UserWarning: Could not import the lzma module. Your installed Python is incomplete. Attempting to use lzma compression will result in a RuntimeError.\n",
      "  warnings.warn(msg)\n"
     ]
    }
   ],
   "source": [
    "import pandas as pd\n",
    "import seaborn as sns"
   ]
  },
  {
   "cell_type": "code",
   "execution_count": 2,
   "id": "f395c70b",
   "metadata": {},
   "outputs": [],
   "source": [
    "df = pd.read_csv(\"bayarea_zipcodes.csv\")"
   ]
  },
  {
   "cell_type": "code",
   "execution_count": 3,
   "id": "d47778dd",
   "metadata": {},
   "outputs": [
    {
     "name": "stdout",
     "output_type": "stream",
     "text": [
      "<class 'pandas.core.frame.DataFrame'>\n",
      "RangeIndex: 187 entries, 0 to 186\n",
      "Data columns (total 6 columns):\n",
      " #   Column    Non-Null Count  Dtype  \n",
      "---  ------    --------------  -----  \n",
      " 0   PO_NAME   187 non-null    object \n",
      " 1   the_geom  187 non-null    object \n",
      " 2   ZIP       187 non-null    int64  \n",
      " 3   STATE     187 non-null    object \n",
      " 4   Area__    187 non-null    float64\n",
      " 5   Length__  187 non-null    float64\n",
      "dtypes: float64(2), int64(1), object(3)\n",
      "memory usage: 8.9+ KB\n"
     ]
    }
   ],
   "source": [
    "df.info()"
   ]
  },
  {
   "cell_type": "code",
   "execution_count": 4,
   "id": "0cbdfcfe",
   "metadata": {},
   "outputs": [],
   "source": [
    "df2 = pd.DataFrame(df[['PO_NAME', 'ZIP']])"
   ]
  },
  {
   "cell_type": "code",
   "execution_count": 5,
   "id": "ea5ed5ac",
   "metadata": {},
   "outputs": [
    {
     "data": {
      "text/plain": [
       "(187, 2)"
      ]
     },
     "execution_count": 5,
     "metadata": {},
     "output_type": "execute_result"
    }
   ],
   "source": [
    "df2.shape"
   ]
  },
  {
   "cell_type": "code",
   "execution_count": 6,
   "id": "ff867687",
   "metadata": {},
   "outputs": [
    {
     "data": {
      "text/html": [
       "<div>\n",
       "<style scoped>\n",
       "    .dataframe tbody tr th:only-of-type {\n",
       "        vertical-align: middle;\n",
       "    }\n",
       "\n",
       "    .dataframe tbody tr th {\n",
       "        vertical-align: top;\n",
       "    }\n",
       "\n",
       "    .dataframe thead th {\n",
       "        text-align: right;\n",
       "    }\n",
       "</style>\n",
       "<table border=\"1\" class=\"dataframe\">\n",
       "  <thead>\n",
       "    <tr style=\"text-align: right;\">\n",
       "      <th></th>\n",
       "      <th>PO_NAME</th>\n",
       "      <th>ZIP</th>\n",
       "    </tr>\n",
       "  </thead>\n",
       "  <tbody>\n",
       "    <tr>\n",
       "      <th>0</th>\n",
       "      <td>NAPA</td>\n",
       "      <td>94558</td>\n",
       "    </tr>\n",
       "    <tr>\n",
       "      <th>1</th>\n",
       "      <td>FAIRFIELD</td>\n",
       "      <td>94533</td>\n",
       "    </tr>\n",
       "    <tr>\n",
       "      <th>2</th>\n",
       "      <td>DIXON</td>\n",
       "      <td>95620</td>\n",
       "    </tr>\n",
       "    <tr>\n",
       "      <th>3</th>\n",
       "      <td>SONOMA</td>\n",
       "      <td>95476</td>\n",
       "    </tr>\n",
       "    <tr>\n",
       "      <th>4</th>\n",
       "      <td>NAPA</td>\n",
       "      <td>94559</td>\n",
       "    </tr>\n",
       "  </tbody>\n",
       "</table>\n",
       "</div>"
      ],
      "text/plain": [
       "     PO_NAME    ZIP\n",
       "0       NAPA  94558\n",
       "1  FAIRFIELD  94533\n",
       "2      DIXON  95620\n",
       "3     SONOMA  95476\n",
       "4       NAPA  94559"
      ]
     },
     "execution_count": 6,
     "metadata": {},
     "output_type": "execute_result"
    }
   ],
   "source": [
    "df2.head()"
   ]
  },
  {
   "cell_type": "code",
   "execution_count": 7,
   "id": "535b8d1a",
   "metadata": {},
   "outputs": [],
   "source": [
    "df3 = pd.read_csv(\"Zip_ZORI_AllHomesPlusMultifamily_SSA.csv\")"
   ]
  },
  {
   "cell_type": "code",
   "execution_count": 8,
   "id": "0a2c1948",
   "metadata": {},
   "outputs": [
    {
     "data": {
      "text/plain": [
       "(2726, 93)"
      ]
     },
     "execution_count": 8,
     "metadata": {},
     "output_type": "execute_result"
    }
   ],
   "source": [
    "df3.shape"
   ]
  },
  {
   "cell_type": "code",
   "execution_count": 29,
   "id": "a3427449",
   "metadata": {},
   "outputs": [],
   "source": [
    "dfSF = df3[df3.MsaName.str.contains('San Francisco, CA') | df3.MsaName.str.contains('San Jose, CA')]  "
   ]
  },
  {
   "cell_type": "code",
   "execution_count": 30,
   "id": "a310260e",
   "metadata": {},
   "outputs": [],
   "source": [
    "dfSF = pd.DataFrame(dfSF)"
   ]
  },
  {
   "cell_type": "code",
   "execution_count": 31,
   "id": "52e2cdf1",
   "metadata": {},
   "outputs": [],
   "source": [
    "#add a new column which shows change from 2020-01\n",
    "dfSF['change_before_pandemic'] = dfSF['2021-05']/dfSF['2019-05']*100-100"
   ]
  },
  {
   "cell_type": "code",
   "execution_count": 32,
   "id": "237211f5",
   "metadata": {},
   "outputs": [],
   "source": [
    "#add a new column which shows change from 2020-05\n",
    "dfSF['change_yoy'] = dfSF['2021-05']/dfSF['2020-05']*100-100"
   ]
  },
  {
   "cell_type": "code",
   "execution_count": 34,
   "id": "a9e75491",
   "metadata": {},
   "outputs": [
    {
     "data": {
      "text/plain": [
       "(95, 95)"
      ]
     },
     "execution_count": 34,
     "metadata": {},
     "output_type": "execute_result"
    }
   ],
   "source": [
    "dfSF.shape"
   ]
  },
  {
   "cell_type": "code",
   "execution_count": 35,
   "id": "82fa88a5",
   "metadata": {},
   "outputs": [
    {
     "data": {
      "text/plain": [
       "94"
      ]
     },
     "execution_count": 35,
     "metadata": {},
     "output_type": "execute_result"
    }
   ],
   "source": [
    "# dfSF.columns.get_loc('RegionName')\n",
    "# dfSF.columns.get_loc('2019-05')\n",
    "dfSF.columns.get_loc('change_yoy')"
   ]
  },
  {
   "cell_type": "code",
   "execution_count": 36,
   "id": "fcb0bd31",
   "metadata": {},
   "outputs": [],
   "source": [
    "# .iloc = pick columns number （列番号を指定）\n",
    "dfSF2 = pd.DataFrame(dfSF.iloc[: , [1, 68, 69, 70, 71, 72, 73, 74, 75, 76, 77, 78, 79, 80, 81, 82, 83, 84, 85, 86, 87, 88, 89, 90, 91, 92, 93, 94]])"
   ]
  },
  {
   "cell_type": "code",
   "execution_count": 38,
   "id": "c444220d",
   "metadata": {},
   "outputs": [
    {
     "data": {
      "text/plain": [
       "(95, 28)"
      ]
     },
     "execution_count": 38,
     "metadata": {},
     "output_type": "execute_result"
    }
   ],
   "source": [
    "dfSF2.shape"
   ]
  },
  {
   "cell_type": "code",
   "execution_count": 39,
   "id": "a129c1b9",
   "metadata": {},
   "outputs": [
    {
     "data": {
      "text/html": [
       "<div>\n",
       "<style scoped>\n",
       "    .dataframe tbody tr th:only-of-type {\n",
       "        vertical-align: middle;\n",
       "    }\n",
       "\n",
       "    .dataframe tbody tr th {\n",
       "        vertical-align: top;\n",
       "    }\n",
       "\n",
       "    .dataframe thead th {\n",
       "        text-align: right;\n",
       "    }\n",
       "</style>\n",
       "<table border=\"1\" class=\"dataframe\">\n",
       "  <thead>\n",
       "    <tr style=\"text-align: right;\">\n",
       "      <th></th>\n",
       "      <th>RegionName</th>\n",
       "      <th>2019-05</th>\n",
       "      <th>2019-06</th>\n",
       "      <th>2019-07</th>\n",
       "      <th>2019-08</th>\n",
       "      <th>2019-09</th>\n",
       "      <th>2019-10</th>\n",
       "      <th>2019-11</th>\n",
       "      <th>2019-12</th>\n",
       "      <th>2020-01</th>\n",
       "      <th>...</th>\n",
       "      <th>2020-10</th>\n",
       "      <th>2020-11</th>\n",
       "      <th>2020-12</th>\n",
       "      <th>2021-01</th>\n",
       "      <th>2021-02</th>\n",
       "      <th>2021-03</th>\n",
       "      <th>2021-04</th>\n",
       "      <th>2021-05</th>\n",
       "      <th>change_before_pandemic</th>\n",
       "      <th>change_yoy</th>\n",
       "    </tr>\n",
       "  </thead>\n",
       "  <tbody>\n",
       "    <tr>\n",
       "      <th>503</th>\n",
       "      <td>94015</td>\n",
       "      <td>3110.0</td>\n",
       "      <td>3123.0</td>\n",
       "      <td>3135.0</td>\n",
       "      <td>3146.0</td>\n",
       "      <td>3157.0</td>\n",
       "      <td>3169.0</td>\n",
       "      <td>3174.0</td>\n",
       "      <td>3180.0</td>\n",
       "      <td>3186.0</td>\n",
       "      <td>...</td>\n",
       "      <td>3224.0</td>\n",
       "      <td>3228.0</td>\n",
       "      <td>3231.0</td>\n",
       "      <td>3235.0</td>\n",
       "      <td>3239.0</td>\n",
       "      <td>NaN</td>\n",
       "      <td>3249.0</td>\n",
       "      <td>3253.0</td>\n",
       "      <td>4.598071</td>\n",
       "      <td>NaN</td>\n",
       "    </tr>\n",
       "    <tr>\n",
       "      <th>2665</th>\n",
       "      <td>95130</td>\n",
       "      <td>3431.0</td>\n",
       "      <td>3436.0</td>\n",
       "      <td>3440.0</td>\n",
       "      <td>3441.0</td>\n",
       "      <td>3441.0</td>\n",
       "      <td>3442.0</td>\n",
       "      <td>3440.0</td>\n",
       "      <td>3438.0</td>\n",
       "      <td>3437.0</td>\n",
       "      <td>...</td>\n",
       "      <td>3319.0</td>\n",
       "      <td>3289.0</td>\n",
       "      <td>3258.0</td>\n",
       "      <td>3228.0</td>\n",
       "      <td>3196.0</td>\n",
       "      <td>3164.0</td>\n",
       "      <td>3132.0</td>\n",
       "      <td>NaN</td>\n",
       "      <td>NaN</td>\n",
       "      <td>NaN</td>\n",
       "    </tr>\n",
       "  </tbody>\n",
       "</table>\n",
       "<p>2 rows × 28 columns</p>\n",
       "</div>"
      ],
      "text/plain": [
       "      RegionName  2019-05  2019-06  2019-07  2019-08  2019-09  2019-10  \\\n",
       "503        94015   3110.0   3123.0   3135.0   3146.0   3157.0   3169.0   \n",
       "2665       95130   3431.0   3436.0   3440.0   3441.0   3441.0   3442.0   \n",
       "\n",
       "      2019-11  2019-12  2020-01  ...  2020-10  2020-11  2020-12  2021-01  \\\n",
       "503    3174.0   3180.0   3186.0  ...   3224.0   3228.0   3231.0   3235.0   \n",
       "2665   3440.0   3438.0   3437.0  ...   3319.0   3289.0   3258.0   3228.0   \n",
       "\n",
       "      2021-02  2021-03  2021-04  2021-05  change_before_pandemic  change_yoy  \n",
       "503    3239.0      NaN   3249.0   3253.0                4.598071         NaN  \n",
       "2665   3196.0   3164.0   3132.0      NaN                     NaN         NaN  \n",
       "\n",
       "[2 rows x 28 columns]"
      ]
     },
     "execution_count": 39,
     "metadata": {},
     "output_type": "execute_result"
    }
   ],
   "source": [
    "dfSF2[dfSF2['change_yoy'].isna()]"
   ]
  },
  {
   "cell_type": "code",
   "execution_count": 41,
   "id": "2b974823",
   "metadata": {},
   "outputs": [],
   "source": [
    "dfSF3 = df2.merge(dfSF2, left_on='ZIP' , right_on='RegionName')"
   ]
  },
  {
   "cell_type": "code",
   "execution_count": 44,
   "id": "ec63c289",
   "metadata": {
    "scrolled": true
   },
   "outputs": [
    {
     "data": {
      "text/plain": [
       "(76, 30)"
      ]
     },
     "execution_count": 44,
     "metadata": {},
     "output_type": "execute_result"
    }
   ],
   "source": [
    "dfSF3.shape"
   ]
  },
  {
   "cell_type": "code",
   "execution_count": 47,
   "id": "df5f6788",
   "metadata": {},
   "outputs": [
    {
     "ename": "KeyError",
     "evalue": "\"None of ['ZIP'] are in the columns\"",
     "output_type": "error",
     "traceback": [
      "\u001b[0;31m---------------------------------------------------------------------------\u001b[0m",
      "\u001b[0;31mKeyError\u001b[0m                                  Traceback (most recent call last)",
      "\u001b[0;32m<ipython-input-47-4de10422112c>\u001b[0m in \u001b[0;36m<module>\u001b[0;34m\u001b[0m\n\u001b[0;32m----> 1\u001b[0;31m \u001b[0mdfSF3\u001b[0m \u001b[0;34m=\u001b[0m \u001b[0mdfSF3\u001b[0m\u001b[0;34m.\u001b[0m\u001b[0mset_index\u001b[0m\u001b[0;34m(\u001b[0m\u001b[0;34m'ZIP'\u001b[0m\u001b[0;34m)\u001b[0m\u001b[0;34m\u001b[0m\u001b[0;34m\u001b[0m\u001b[0m\n\u001b[0m",
      "\u001b[0;32m~/.pyenv/versions/3.8.10/lib/python3.8/site-packages/pandas/core/frame.py\u001b[0m in \u001b[0;36mset_index\u001b[0;34m(self, keys, drop, append, inplace, verify_integrity)\u001b[0m\n\u001b[1;32m   4725\u001b[0m \u001b[0;34m\u001b[0m\u001b[0m\n\u001b[1;32m   4726\u001b[0m         \u001b[0;32mif\u001b[0m \u001b[0mmissing\u001b[0m\u001b[0;34m:\u001b[0m\u001b[0;34m\u001b[0m\u001b[0;34m\u001b[0m\u001b[0m\n\u001b[0;32m-> 4727\u001b[0;31m             \u001b[0;32mraise\u001b[0m \u001b[0mKeyError\u001b[0m\u001b[0;34m(\u001b[0m\u001b[0;34mf\"None of {missing} are in the columns\"\u001b[0m\u001b[0;34m)\u001b[0m\u001b[0;34m\u001b[0m\u001b[0;34m\u001b[0m\u001b[0m\n\u001b[0m\u001b[1;32m   4728\u001b[0m \u001b[0;34m\u001b[0m\u001b[0m\n\u001b[1;32m   4729\u001b[0m         \u001b[0;32mif\u001b[0m \u001b[0minplace\u001b[0m\u001b[0;34m:\u001b[0m\u001b[0;34m\u001b[0m\u001b[0;34m\u001b[0m\u001b[0m\n",
      "\u001b[0;31mKeyError\u001b[0m: \"None of ['ZIP'] are in the columns\""
     ]
    }
   ],
   "source": [
    "dfSF3 = dfSF3.set_index('ZIP')"
   ]
  },
  {
   "cell_type": "code",
   "execution_count": null,
   "id": "a8f62683",
   "metadata": {},
   "outputs": [],
   "source": []
  },
  {
   "cell_type": "code",
   "execution_count": 48,
   "id": "777cde1c",
   "metadata": {},
   "outputs": [
    {
     "data": {
      "text/plain": [
       "(75, 28)"
      ]
     },
     "execution_count": 48,
     "metadata": {},
     "output_type": "execute_result"
    }
   ],
   "source": [
    "dfSF3.shape"
   ]
  },
  {
   "cell_type": "code",
   "execution_count": 49,
   "id": "46e2ca3e",
   "metadata": {},
   "outputs": [],
   "source": [
    "sns.set(font='DejaVu Sans')"
   ]
  },
  {
   "cell_type": "code",
   "execution_count": 50,
   "id": "1fa50bd7",
   "metadata": {},
   "outputs": [
    {
     "name": "stderr",
     "output_type": "stream",
     "text": [
      "*c* argument looks like a single numeric RGB or RGBA sequence, which should be avoided as value-mapping will have precedence in case its length matches with *x* & *y*.  Please use the *color* keyword-argument or provide a 2D array with a single row if you intend to specify the same RGB or RGBA value for all points.\n"
     ]
    },
    {
     "data": {
      "text/plain": [
       "<AxesSubplot:xlabel='2021-05', ylabel='change_before_pandemic'>"
      ]
     },
     "execution_count": 50,
     "metadata": {},
     "output_type": "execute_result"
    },
    {
     "data": {
      "image/png": "[encoded data removed]",
      "text/plain": [
       "<Figure size 432x288 with 1 Axes>"
      ]
     },
     "metadata": {},
     "output_type": "display_data"
    }
   ],
   "source": [
    "dfSF3[['2021-05', 'change_before_pandemic']].plot.scatter( x='2021-05', y='change_before_pandemic')"
   ]
  },
  {
   "cell_type": "code",
   "execution_count": 51,
   "id": "d48652ca",
   "metadata": {},
   "outputs": [],
   "source": [
    "dfSF4 = dfSF3[['PO_NAME', '2021-05', 'change_before_pandemic']]\n",
    "dfSF4.to_csv(\"sfzip_rent.csv\")"
   ]
  },
  {
   "cell_type": "code",
   "execution_count": null,
   "id": "d584813c",
   "metadata": {},
   "outputs": [],
   "source": []
  }
 ],
 "metadata": {
  "kernelspec": {
   "display_name": "Python 3",
   "language": "python",
   "name": "python3"
  },
  "language_info": {
   "codemirror_mode": {
    "name": "ipython",
    "version": 3
   },
   "file_extension": ".py",
   "mimetype": "text/x-python",
   "name": "python",
   "nbconvert_exporter": "python",
   "pygments_lexer": "ipython3",
   "version": "3.8.10"
  }
 },
 "nbformat": 4,
 "nbformat_minor": 5
}
